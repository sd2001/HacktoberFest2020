{
 "cells": [
  {
   "cell_type": "code",
   "execution_count": 1,
   "metadata": {
    "_cell_guid": "b1076dfc-b9ad-4769-8c92-a6c4dae69d19",
    "_uuid": "8f2839f25d086af736a60e9eeb907d3b93b6e0e5"
   },
   "outputs": [],
   "source": [
    "# This Python 3 environment comes with many helpful analytics libraries installed\n",
    "# It is defined by the kaggle/python docker image: https://github.com/kaggle/docker-python\n",
    "# For example, here's several helpful packages to load in \n",
    "\n",
    "import numpy as np # linear algebra\n",
    "import pandas as pd # data processing, CSV file I/O (e.g. pd.read_csv)\n",
    "import matplotlib.pyplot as plt\n",
    "import seaborn as sns\n",
    "import warnings\n",
    "\n",
    "# Input data files are available in the \"../input/\" directory.\n",
    "# For example, running this (by clicking run or pressing Shift+Enter) will list all files under the input directory\n",
    "\n",
    "import os\n",
    "for dirname, _, filenames in os.walk('/kaggle/input'):\n",
    "    for filename in filenames:\n",
    "        print(os.path.join(dirname, filename))\n",
    "\n",
    "# Any results you write to the current directory are saved as output."
   ]
  },
  {
   "cell_type": "code",
   "execution_count": null,
   "metadata": {
    "_cell_guid": "79c7e3d0-c299-4dcb-8224-4455121ee9b0",
    "_uuid": "d629ff2d2480ee46fbb7e2d37f6b5fab8052498a"
   },
   "outputs": [],
   "source": [
    "warnings.filterwarnings('ignore')\n",
    "pd.set_option('display.max_rows',500)\n",
    "pd.set_option('display.max_columns',500)\n",
    "plt.style.use('fivethirtyeight')\n",
    "from scipy import stats\n",
    "%matplotlib inline"
   ]
  },
  {
   "cell_type": "code",
   "execution_count": null,
   "metadata": {},
   "outputs": [],
   "source": [
    "train = pd.read_csv('../input/house-prices-advanced-regression-techniques/train.csv')\n",
    "test = pd.read_csv('../input/house-prices-advanced-regression-techniques/test.csv')"
   ]
  },
  {
   "cell_type": "code",
   "execution_count": null,
   "metadata": {},
   "outputs": [],
   "source": [
    "missing = train.isna().sum()\n",
    "missing = missing[missing>0]\n",
    "missing_perc = missing/train.shape[0]*100\n",
    "na=pd.DataFrame([missing,missing_perc],index = ['missing_num','missing_perc']).T\n",
    "na=na.sort_values(by = 'missing_perc',ascending=False)\n"
   ]
  },
  {
   "cell_type": "code",
   "execution_count": null,
   "metadata": {},
   "outputs": [],
   "source": [
    "sns.pairplot(x_vars = ['PoolQC','MiscFeature','Alley','Fence'],y_vars = 'SalePrice',data = train)\n",
    "plt.show()\n",
    "sns.pairplot(x_vars = ['FireplaceQu','GarageType','GarageYrBlt','GarageFinish'],y_vars = 'SalePrice',data = train)\n",
    "plt.show()\n",
    "sns.pairplot(x_vars = ['BsmtExposure','BsmtFinType2','BsmtFinType1','MasVnrType'],y_vars = 'SalePrice',data = train)\n",
    "plt.show()\n",
    "plt.savefig('myfig.jpg')"
   ]
  },
  {
   "cell_type": "code",
   "execution_count": 2,
   "metadata": {},
   "outputs": [
    {
     "ename": "NameError",
     "evalue": "name 'train' is not defined",
     "output_type": "error",
     "traceback": [
      "\u001b[1;31m---------------------------------------------------------------------------\u001b[0m",
      "\u001b[1;31mNameError\u001b[0m                                 Traceback (most recent call last)",
      "\u001b[1;32m<ipython-input-2-8287643a32cb>\u001b[0m in \u001b[0;36m<module>\u001b[1;34m\u001b[0m\n\u001b[0;32m      1\u001b[0m \u001b[1;31m#Handle Missing Values\u001b[0m\u001b[1;33m\u001b[0m\u001b[1;33m\u001b[0m\u001b[1;33m\u001b[0m\u001b[0m\n\u001b[1;32m----> 2\u001b[1;33m \u001b[0mtrain\u001b[0m\u001b[1;33m.\u001b[0m\u001b[0mdrop\u001b[0m\u001b[1;33m(\u001b[0m\u001b[1;33m[\u001b[0m\u001b[1;34m'PoolQC'\u001b[0m\u001b[1;33m,\u001b[0m\u001b[1;34m'MiscFeature'\u001b[0m\u001b[1;33m,\u001b[0m\u001b[1;34m'Alley'\u001b[0m\u001b[1;33m,\u001b[0m\u001b[1;34m'Fence'\u001b[0m\u001b[1;33m,\u001b[0m\u001b[1;34m'FireplaceQu'\u001b[0m\u001b[1;33m,\u001b[0m\u001b[1;34m'GarageType'\u001b[0m\u001b[1;33m,\u001b[0m\u001b[1;34m'GarageYrBlt'\u001b[0m\u001b[1;33m,\u001b[0m\u001b[1;34m'GarageFinish'\u001b[0m\u001b[1;33m,\u001b[0m\u001b[1;34m'BsmtExposure'\u001b[0m\u001b[1;33m,\u001b[0m\u001b[1;34m'BsmtFinType2'\u001b[0m\u001b[1;33m,\u001b[0m\u001b[1;34m'BsmtFinType1'\u001b[0m\u001b[1;33m,\u001b[0m\u001b[1;34m'MasVnrType'\u001b[0m\u001b[1;33m]\u001b[0m\u001b[1;33m,\u001b[0m\u001b[0maxis\u001b[0m\u001b[1;33m=\u001b[0m\u001b[1;36m1\u001b[0m\u001b[1;33m,\u001b[0m\u001b[0minplace\u001b[0m \u001b[1;33m=\u001b[0m \u001b[1;32mTrue\u001b[0m\u001b[1;33m)\u001b[0m\u001b[1;33m\u001b[0m\u001b[1;33m\u001b[0m\u001b[0m\n\u001b[0m",
      "\u001b[1;31mNameError\u001b[0m: name 'train' is not defined"
     ]
    }
   ],
   "source": [
    "#Handle Missing Values\n",
    "train.drop(['PoolQC','MiscFeature','Alley','Fence','FireplaceQu','GarageType','GarageYrBlt','GarageFinish','BsmtExposure','BsmtFinType2','BsmtFinType1','MasVnrType'],axis=1,inplace = True)"
   ]
  },
  {
   "cell_type": "code",
   "execution_count": null,
   "metadata": {},
   "outputs": [],
   "source": [
    "train.drop(train[train.Electrical.isna()].index,axis=0,inplace=True)\n",
    "NA = ['GarageQual','GarageCond','BsmtCond','BsmtQual']\n",
    "for na in NA:\n",
    "    train[na].fillna('NA',inplace=True)\n",
    "train['MasVnrArea'].fillna(0,inplace=True)\n",
    "train['LotFrontage'].fillna(0,inplace=True)"
   ]
  },
  {
   "cell_type": "code",
   "execution_count": null,
   "metadata": {},
   "outputs": [],
   "source": [
    "sns.distplot(train.SalePrice)\n",
    "plt.show()"
   ]
  },
  {
   "cell_type": "code",
   "execution_count": null,
   "metadata": {},
   "outputs": [],
   "source": [
    "figure=plt.figure(figsize=(13,5))\n",
    "plt.subplot(1,2,1)\n",
    "stats.probplot(train.SalePrice, plot=plt)\n",
    "plt.title('Actual SalePrice')\n",
    "plt.subplot(1,2,2)\n",
    "train.SalePrice=np.log(train.SalePrice)\n",
    "stats.probplot(train.SalePrice, plot=plt)\n",
    "plt.title('SalePrice after log transformation')\n",
    "plt.show()\n",
    "plt.savefig('SalePrice.jpg')\n",
    "plt.figure(figsize=(15,10))\n",
    "sns.heatmap(train.corr(),vmax=8,square=True)\n",
    "plt.savefig('Heatmap.jpg')"
   ]
  },
  {
   "cell_type": "code",
   "execution_count": null,
   "metadata": {},
   "outputs": [],
   "source": [
    "plt.figure(figsize=(11,4))\n",
    "plt.subplot(1,2,1)\n",
    "plt.scatter(train.OverallQual,train.SalePrice)\n",
    "plt.xlabel('OverallQual');plt.ylabel('SalePrice')\n",
    "plt.subplot(1,2,2)\n",
    "plt.scatter(train.GrLivArea,train.SalePrice)\n",
    "plt.xlabel('Grnd Living Area'); plt.ylabel('SalePrice')\n",
    "plt.show()"
   ]
  },
  {
   "cell_type": "code",
   "execution_count": null,
   "metadata": {},
   "outputs": [],
   "source": [
    "var=['GarageCars','GarageArea','TotalBsmtSF','1stFlrSF','FullBath']\n",
    "sns.pairplot(x_vars=var,y_vars='SalePrice',data=train)\n",
    "plt.show()"
   ]
  },
  {
   "cell_type": "code",
   "execution_count": null,
   "metadata": {},
   "outputs": [],
   "source": [
    "train.drop('Id',axis=1,inplace=True)\n",
    "train.drop(['TotRmsAbvGrd','GarageArea'],axis=1,inplace=True)\n",
    "features=['OverallQual','GrLivArea']\n",
    "for feat in features:\n",
    "    train[feat+'_p2'] = train[feat]**2\n",
    "    train[feat+'_p3'] = train[feat]**3\n",
    "mp = {'Ex': 5,'Gd':4,'TA':3,'Fa':2,'Po':1,'NA':0}\n",
    "for feat in ['ExterQual','ExterCond','BsmtQual','BsmtCond','HeatingQC','KitchenQual','GarageQual','GarageCond']:\n",
    "    train[feat] = train[feat].map(mp)\n",
    "mp={'N':0,'Y':2,'P':1}\n",
    "for feat in ['CentralAir','PavedDrive']:\n",
    "    train[feat]=train[feat].map(mp)\n",
    "mp = {'Typ':8,'Min1':7,'Min2':6,'Mod':5,'Maj1':4,'Maj2':3,'Sev':2,'Sal':1}\n",
    "train['Functional']=train['Functional'].map(mp)\n",
    "mp={'Gtl':1,'Mod':2,'Sev':3}"
   ]
  },
  {
   "cell_type": "code",
   "execution_count": null,
   "metadata": {},
   "outputs": [],
   "source": [
    "train['LandSlope']=train['LandSlope'].map(mp)\n",
    "train['TotBath']=train['BsmtFullBath']+train['FullBath']+.5*(train.BsmtHalfBath+train.HalfBath)\n",
    "train['Overall_Score']=train.OverallQual*train.OverallCond\n",
    "train['Total_area']=train['1stFlrSF']+train['2ndFlrSF']+train.TotalBsmtSF\n",
    "train['Garage_Score']=train.GarageQual*train.GarageCond\n",
    "train['Kitchen_Score']=train.KitchenAbvGr*train.KitchenQual\n",
    "train['Bsmt_Score']=train.BsmtQual*train.BsmtCond"
   ]
  },
  {
   "cell_type": "code",
   "execution_count": null,
   "metadata": {},
   "outputs": [],
   "source": [
    "train=pd.get_dummies(train)"
   ]
  },
  {
   "cell_type": "code",
   "execution_count": null,
   "metadata": {},
   "outputs": [],
   "source": [
    "train_x = train.drop('SalePrice',axis=1)\n",
    "train_y = pd.DataFrame(train.SalePrice)\n",
    "index = train_x.columns\n",
    "from sklearn.preprocessing import StandardScaler\n",
    "scaler = StandardScaler()\n",
    "train_x = scaler.fit_transform(train_x)\n",
    "train_x = pd.DataFrame(train_x,columns=index)"
   ]
  },
  {
   "cell_type": "code",
   "execution_count": null,
   "metadata": {},
   "outputs": [],
   "source": [
    "#Test Data\n",
    "test.drop(['PoolQC','MiscFeature','Alley','Fence','FireplaceQu','GarageType','GarageYrBlt','GarageFinish','BsmtExposure','BsmtFinType2','BsmtFinType1','MasVnrType'],axis=1,inplace = True)"
   ]
  },
  {
   "cell_type": "code",
   "execution_count": null,
   "metadata": {},
   "outputs": [],
   "source": [
    "test.drop(test[test.Electrical.isna()].index,axis=0,inplace=True)\n",
    "NA = ['GarageQual','GarageCond','BsmtCond','BsmtQual']\n",
    "for na in NA:\n",
    "    test[na].fillna('NA',inplace=True)\n",
    "    NA = ['GarageQual','GarageCond','BsmtCond','BsmtQual']\n",
    "for na in NA:\n",
    "    test[na].fillna('NA',inplace=True)\n",
    "fill_zeros = ['GarageCars','GarageArea']\n",
    "for zeros in fill_zeros:\n",
    "    test[zeros].fillna(0,inplace=True)\n",
    "test['MasVnrArea'].fillna(0,inplace=True)\n",
    "test['LotFrontage'].fillna(0,inplace=True)\n",
    "test['Electrical'].fillna('SBrkr',inplace=True)\n",
    "test.MSZoning.fillna('RL',inplace=True)\n",
    "test.Utilities.fillna('AllPub',inplace=True)\n",
    "test.BsmtFinSF1.fillna(0.0,inplace=True)\n",
    "test.BsmtFinSF2.fillna(0.0,inplace=True)\n",
    "test.BsmtUnfSF.fillna(0.0,inplace=True)\n",
    "test.TotalBsmtSF.fillna(0.0,inplace=True)\n",
    "test.BsmtFullBath.fillna(0.0,inplace=True)\n",
    "test.BsmtHalfBath.fillna(0.0,inplace=True)\n",
    "test.Functional.fillna('Typ',inplace=True)\n",
    "test.Exterior1st.fillna('VinylSd',inplace=True)\n",
    "test.Exterior2nd.fillna('VinylSd',inplace=True)\n",
    "test.KitchenQual.fillna('TA',inplace=True)\n",
    "test.SaleType.fillna('WD',inplace=True)\n",
    "test.drop('Id',axis=1,inplace=True)\n",
    "features = ['OverallQual','GrLivArea']\n",
    "for feat in features:\n",
    "    test[feat+'_p2'] = test[feat]**2\n",
    "    test[feat+'_p3'] = test[feat]**3\n",
    "test.drop(['TotRmsAbvGrd','GarageArea'],axis=1,inplace=True)\n",
    "mp = {'Ex': 5,'Gd':4,'TA':3,'Fa':2,'Po':1,'NA':0}\n",
    "for feat in ['ExterQual','ExterCond','BsmtQual','BsmtCond','HeatingQC','KitchenQual','GarageQual','GarageCond']:\n",
    "    test[feat] = test[feat].map(mp)\n",
    "mp={'N':0,'Y':2,'P':1}\n",
    "for feat in ['CentralAir','PavedDrive']:\n",
    "    test[feat]=test[feat].map(mp)\n",
    "mp = {'Typ':8,'Min1':7,'Min2':6,'Mod':5,'Maj1':4,'Maj2':3,'Sev':2,'Sal':1}\n",
    "test['Functional']=test['Functional'].map(mp)\n",
    "mp={'Gtl':1,'Mod':2,'Sev':3}"
   ]
  },
  {
   "cell_type": "code",
   "execution_count": null,
   "metadata": {},
   "outputs": [],
   "source": [
    "test['LandSlope']=test['LandSlope'].map(mp)\n",
    "test['TotBath']=test['BsmtFullBath']+test['FullBath']+.5*(test.BsmtHalfBath+test.HalfBath)\n",
    "test['Overall_Score']=test.OverallQual*test.OverallCond\n",
    "test['Total_area']=test['1stFlrSF']+test['2ndFlrSF']+test.TotalBsmtSF\n",
    "test['Garage_Score']=test.GarageQual*test.GarageCond\n",
    "test['Kitchen_Score']=test.KitchenAbvGr*test.KitchenQual\n",
    "test['Bsmt_Score']=test.BsmtQual*test.BsmtCond\n",
    "test=pd.get_dummies(test)"
   ]
  },
  {
   "cell_type": "code",
   "execution_count": null,
   "metadata": {},
   "outputs": [],
   "source": [
    "testcol = test.columns.tolist()\n",
    "traincol = train_x.columns.tolist()\n",
    "diff = list(set(traincol).difference(testcol))\n",
    "last_cols = train_x[diff]\n",
    "train_x.drop(diff,axis=1,inplace=True)\n",
    "index = test.columns\n",
    "scaler = StandardScaler()\n",
    "test = scaler.fit_transform(test)\n",
    "test = pd.DataFrame(test,columns = index)\n"
   ]
  },
  {
   "cell_type": "code",
   "execution_count": null,
   "metadata": {},
   "outputs": [],
   "source": [
    "#Model Creation\n",
    "from sklearn.linear_model import LinearRegression,Ridge\n",
    "from sklearn.metrics import mean_squared_error as mse\n",
    "model1 = Ridge(alpha=1)\n",
    "model2 = LinearRegression()\n",
    "model2.fit(train_x,train_y)\n",
    "model1.fit(train_x,train_y)\n",
    "print(\"The accuracy of training LR set is\",model2.score(train_x,train_y))\n",
    "predRidge= model1.predict(test)\n",
    "predLR=model2.predict(test)\n",
    "print(\"The accuracy of training Ridge set is\",model1.score(train_x,train_y))\n"
   ]
  }
 ],
 "metadata": {
  "kernelspec": {
   "display_name": "Python 3",
   "language": "python",
   "name": "python3"
  },
  "language_info": {
   "codemirror_mode": {
    "name": "ipython",
    "version": 3
   },
   "file_extension": ".py",
   "mimetype": "text/x-python",
   "name": "python",
   "nbconvert_exporter": "python",
   "pygments_lexer": "ipython3",
   "version": "3.8.1"
  }
 },
 "nbformat": 4,
 "nbformat_minor": 1
}
